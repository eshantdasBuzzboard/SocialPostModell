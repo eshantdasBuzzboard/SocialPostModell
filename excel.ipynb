{
 "cells": [
  {
   "cell_type": "code",
   "execution_count": 1,
   "id": "2963d39d",
   "metadata": {},
   "outputs": [],
   "source": [
    "import pandas as pd\n",
    "df=pd.read_excel(\"SocialPost.xlsx\")"
   ]
  },
  {
   "cell_type": "code",
   "execution_count": 2,
   "id": "e6ec8ba2",
   "metadata": {},
   "outputs": [
    {
     "data": {
      "text/html": [
       "<div>\n",
       "<style scoped>\n",
       "    .dataframe tbody tr th:only-of-type {\n",
       "        vertical-align: middle;\n",
       "    }\n",
       "\n",
       "    .dataframe tbody tr th {\n",
       "        vertical-align: top;\n",
       "    }\n",
       "\n",
       "    .dataframe thead th {\n",
       "        text-align: right;\n",
       "    }\n",
       "</style>\n",
       "<table border=\"1\" class=\"dataframe\">\n",
       "  <thead>\n",
       "    <tr style=\"text-align: right;\">\n",
       "      <th></th>\n",
       "      <th>BrandGuide</th>\n",
       "      <th>Website summary</th>\n",
       "      <th>Welcomecall Details</th>\n",
       "      <th>Requirements</th>\n",
       "      <th>Social Post (9V)</th>\n",
       "    </tr>\n",
       "  </thead>\n",
       "  <tbody>\n",
       "    <tr>\n",
       "      <th>0</th>\n",
       "      <td>{'Short Business Description': 'Family-run exp...</td>\n",
       "      <td>{\"Overview of the business\":\"Lange Plumbing &amp; ...</td>\n",
       "      <td>{\\n    \"websiteId\": \"8115ab68-fc99-4133-9106-9...</td>\n",
       "      <td>\\n      number_of_post: 12\\n      Channel: Fac...</td>\n",
       "      <td>{\\n  'posts': [{\\n    'Post Number': 1,\\n    '...</td>\n",
       "    </tr>\n",
       "    <tr>\n",
       "      <th>1</th>\n",
       "      <td>{'Short Business Description': 'Eco-minded wes...</td>\n",
       "      <td>Website Summary\\nOverview of the business\\nCow...</td>\n",
       "      <td>{\\n    \"websiteId\": \"e743ffb0-76b9-4f8c-9d43-a...</td>\n",
       "      <td>\\n      number_of_post: 12\\n      Channel: Fac...</td>\n",
       "      <td>{\\n  'posts': [{\\n    'Post Number': 1,\\n    '...</td>\n",
       "    </tr>\n",
       "    <tr>\n",
       "      <th>2</th>\n",
       "      <td>{'Short Business Description': 'Transform loca...</td>\n",
       "      <td>{\"Overview of the business\":\"Bites by Bre is a...</td>\n",
       "      <td>{\\n    \"websiteId\": \"80e4a616-ebaa-4e16-92ef-e...</td>\n",
       "      <td>\\n      number_of_post: 12\\n      Channel: Fac...</td>\n",
       "      <td>{\\n  'posts': [{\\n    'Post Number': 1,\\n    '...</td>\n",
       "    </tr>\n",
       "    <tr>\n",
       "      <th>3</th>\n",
       "      <td>{'Short Business Description': 'Empowering bus...</td>\n",
       "      <td>{\"Overview of the business\":\"Celebrating Data ...</td>\n",
       "      <td>{\\n    \"websiteId\": \"45c224a6-bc82-4abd-aaf4-2...</td>\n",
       "      <td>\\n      number_of_post: 12\\n      Channel: Fac...</td>\n",
       "      <td>{\\n  'posts': [{\\n    'Post Number': 1,\\n    '...</td>\n",
       "    </tr>\n",
       "    <tr>\n",
       "      <th>4</th>\n",
       "      <td>{'Short Business Description': 'Empower your p...</td>\n",
       "      <td>Website Summary\\nOverview of the business\\nKry...</td>\n",
       "      <td>{\\n    \"websiteId\": \"66005c03-e4fa-4410-b06b-2...</td>\n",
       "      <td>\\n      number_of_post: 12\\n      Channel: Fac...</td>\n",
       "      <td>{\\n  'posts': [{\\n    'Post Number': 1,\\n    '...</td>\n",
       "    </tr>\n",
       "  </tbody>\n",
       "</table>\n",
       "</div>"
      ],
      "text/plain": [
       "                                          BrandGuide  \\\n",
       "0  {'Short Business Description': 'Family-run exp...   \n",
       "1  {'Short Business Description': 'Eco-minded wes...   \n",
       "2  {'Short Business Description': 'Transform loca...   \n",
       "3  {'Short Business Description': 'Empowering bus...   \n",
       "4  {'Short Business Description': 'Empower your p...   \n",
       "\n",
       "                                     Website summary  \\\n",
       "0  {\"Overview of the business\":\"Lange Plumbing & ...   \n",
       "1  Website Summary\\nOverview of the business\\nCow...   \n",
       "2  {\"Overview of the business\":\"Bites by Bre is a...   \n",
       "3  {\"Overview of the business\":\"Celebrating Data ...   \n",
       "4  Website Summary\\nOverview of the business\\nKry...   \n",
       "\n",
       "                                 Welcomecall Details  \\\n",
       "0  {\\n    \"websiteId\": \"8115ab68-fc99-4133-9106-9...   \n",
       "1  {\\n    \"websiteId\": \"e743ffb0-76b9-4f8c-9d43-a...   \n",
       "2  {\\n    \"websiteId\": \"80e4a616-ebaa-4e16-92ef-e...   \n",
       "3  {\\n    \"websiteId\": \"45c224a6-bc82-4abd-aaf4-2...   \n",
       "4  {\\n    \"websiteId\": \"66005c03-e4fa-4410-b06b-2...   \n",
       "\n",
       "                                        Requirements  \\\n",
       "0  \\n      number_of_post: 12\\n      Channel: Fac...   \n",
       "1  \\n      number_of_post: 12\\n      Channel: Fac...   \n",
       "2  \\n      number_of_post: 12\\n      Channel: Fac...   \n",
       "3  \\n      number_of_post: 12\\n      Channel: Fac...   \n",
       "4  \\n      number_of_post: 12\\n      Channel: Fac...   \n",
       "\n",
       "                                    Social Post (9V)  \n",
       "0  {\\n  'posts': [{\\n    'Post Number': 1,\\n    '...  \n",
       "1  {\\n  'posts': [{\\n    'Post Number': 1,\\n    '...  \n",
       "2  {\\n  'posts': [{\\n    'Post Number': 1,\\n    '...  \n",
       "3  {\\n  'posts': [{\\n    'Post Number': 1,\\n    '...  \n",
       "4  {\\n  'posts': [{\\n    'Post Number': 1,\\n    '...  "
      ]
     },
     "execution_count": 2,
     "metadata": {},
     "output_type": "execute_result"
    }
   ],
   "source": [
    "df.head()"
   ]
  },
  {
   "cell_type": "code",
   "execution_count": null,
   "id": "d93b8521",
   "metadata": {},
   "outputs": [],
   "source": []
  },
  {
   "cell_type": "code",
   "execution_count": 3,
   "id": "95fb63dc",
   "metadata": {},
   "outputs": [],
   "source": [
    "columns=df.columns.to_list()"
   ]
  },
  {
   "cell_type": "code",
   "execution_count": 38,
   "id": "c748fda2",
   "metadata": {},
   "outputs": [],
   "source": [
    "import ast\n",
    "import json\n",
    "\n",
    "def get_website_summary(summary):\n",
    "    # If it's already a dict, return as is\n",
    "    if isinstance(summary, dict):\n",
    "        return summary\n",
    "    try:\n",
    "        # Try to parse as dict (only works if the string is a valid literal)\n",
    "        parsed = ast.literal_eval(summary)\n",
    "        if isinstance(parsed, dict):\n",
    "            return parsed\n",
    "        else:\n",
    "            # If it's not a dict after parsing, wrap in dict\n",
    "            return {\"Overview of the business\": summary}\n",
    "    except Exception:\n",
    "        # If parsing fails, wrap in dict\n",
    "        return {\"Overview of the business\": summary}"
   ]
  },
  {
   "cell_type": "code",
   "execution_count": 32,
   "id": "396eda9f",
   "metadata": {},
   "outputs": [],
   "source": [
    "\n",
    "data = df[columns].to_dict(orient=\"records\")  # List of dictionaries, each rowty\n",
    "\n"
   ]
  },
  {
   "cell_type": "code",
   "execution_count": 68,
   "id": "695bea4f",
   "metadata": {},
   "outputs": [
    {
     "data": {
      "text/plain": [
       "{'BrandGuide': \"{'Short Business Description': 'Creating bright, healthy smiles for children and teens in Los Angeles. Experience stress-free dental care in a fun, caring environment. Schedule an appointment today.', 'Detailed Business Overview': 'Kids Dental Land delivers expert pediatric dental care in Los Angeles with over 17 years of experience. Our family-oriented team treats children and teens up to 20 with gentle, comprehensive services. We offer digital x-rays with minimal radiation, teeth cleanings, fluoride treatments, braces, root canals, and more—all in a playful, welcoming office. We focus on building meaningful relationships with each family and enjoy seeing multiple generations. Our skilled pediatric dentists help every child feel safe, respected, and at ease. We accept Denti-Cal, PPO insurance, and offer special cash packages to keep care accessible.', 'Website Font': [{'Title': 'Helvetica Neue', 'Body': 'Helvetica Neue, sans-serif'}], 'Recommended Font': [{'Title': 'caveat-brush', 'Body': 'quicksand'}], 'Website Colors': ['#FFFFFF', '#333333', '#000000'], 'Recommended Color': {'Primary_color': {'Hex Code': '#FF6F00', 'Color name': 'Vivid Orange'}, 'Secondary_color': {'Hex Code': '#1976D2', 'Color name': 'Bold Blue'}, 'Accent_color': [{'Hex Code': '#43A047', 'Color name': 'Fresh Green'}, {'Hex Code': '#FDD835', 'Color name': 'Bright Yellow'}]}, 'Point of View': 'We/Our/Us', 'Voice': [{'Primary': 'Sincere', 'Secondary': 'Compassionate'}], 'Brand Personality Traits': ['Friendly', 'Family-oriented', 'Experienced', 'Reliable', 'Comforting', 'Playful', 'Sincere', 'Playful (Visual Trait)'], 'Hashtags': ['KidsDentalLand', 'ChildrensDentist', 'KidsDentistLA', 'DentistLA', 'SmileBright', 'PediatricDentalLA', 'LAChildrensSmiles']}\",\n",
       " 'Website summary': 'Website Summary\\nOverview of the business\\nKids Dental Land is a pediatric dental clinic offering comprehensive dental care for children and teenagers. The practice focuses on providing a stress-free and enjoyable dental experience for young patients in the Greater Los Angeles area.\\n\\nAbout the business\\nKids Dental Land specializes in providing high-quality dental treatments for children below 20 years old. Their experienced team creates a welcoming and friendly environment where children feel comfortable and safe. Services range from teeth cleaning to fluoride treatments and light sedation dentistry.\\n\\nMission and Vision of the business\\nMission: To deliver top-notch pediatric dental care in a warm, welcoming, and family-oriented environment. Vision: To ensure every child has a bright, healthy smile and a positive dental experience, laying the foundation for a lifetime of good oral health.\\n\\nList of Primary and secondary Products or Services they provide\\nPrimary Services: Teeth cleaning, Fluoride treatments, Light sedation dentistry, Comprehensive pediatric dental care.Secondary Services: Dental education, Preventative care\\nTarget Audience\\nChildren and teenagers up to 20 years old in the Greater Los Angeles area.\\n\\nBusiness Category\\nPediatric Dentistry\\n\\nLocal area\\nGreater Los Angeles area\\n\\nAbout the community they serve\\nKids Dental Land serves families in the Greater Los Angeles area, focusing on making dental visits enjoyable and stress-free for children.\\n\\nCompetitive standout\\nFamily-oriented and friendly approach, Experienced and skilled pediatric dental team, Light sedation options to reduce anxiety and discomfort, Comprehensive services for children’s unique dental needs\\n\\nNew customer demographics\\nFamilies with children below 20 years old, Individuals with Denti-Cal/PPO insurance, as well as cash-paying customers looking for special packages\\n\\nUnique selling proposition\\nThe clinic offers a family-oriented, friendly environment with a focus on stress-free, high-quality pediatric dental care. Accepting Denti-Cal/PPO insurance and offering special cash payment packages makes dental care accessible and affordable for a wider audience.',\n",
       " 'Welcomecall Details': '{\\n    \"websiteId\": \"633eaa64-319a-499f-958f-b46af53309e2\",\\n    \"bizShowHours\": true,\\n    \"saleChannels\": {\\n        \"physicalLocation\": true\\n    },\\n    \"businessSize\": \"\\\\u00a0\",\\n    \"competitiveStandout\": \"Pediatric Only . Experienced, very friendly and everyone knows them. Seen multiple generations of customers. \",\\n    \"longDescription\": \"It wouldn\\\\u2019t be a children\\\\u2019s dental office without some cartoon characters and themed rooms, right? Since 2008, we\\\\u2019ve prioritized the comfort of every child, while making sure they get the personalized care they deserve \\\\u2013 from X-ray cleanings and fillings to braces and root canals. There\\\\u2019s nothing like seeing generations of a family, so pop on in so our team can get to know yours. Keep your child\\\\u2019s smile bright and schedule an appointment today.\\\\n\",\\n    \"hasProductsUpToDate\": \"no\",\\n    \"hipaaCompliant\": true,\\n    \"howDoYouFeelAboutSocialMedia\": \"He doesn\\\\u2019t use it too much himself. \",\\n    \"howDoYouReferYourBusiness\": \"3rd person\",\\n    \"howLongInIndustry\": \"15 years + since 2008\",\\n    \"keyTerms\": \"-Doctors who work there have 20+ years of experience\\\\n-Really love having great relationships with their customers (friendly, treat like family, professional)\\\\n\\\\u2022 -Referrals are given if they can do anything for them. \",\\n    \"localAreas\": [\\n        \"Los Angeles and surrounding area. People move out but still come to them.\"\\n    ],\\n    \"newCustomerDemographics\": \"More of the same\",\\n    \"ongoingSocialPostApproval\": false,\\n    \"partnershipGoals\": \"Notice the new offices are big on marketing\\\\/social and getting lots of reviews. He wants to better his social media presence, get their name out there and get more eyes on their business. Grow a bit bigger. \",\\n    \"reviewApproval\": false,\\n    \"sellingItemType\": \"Site being built\",\\n    \"servicesOrProducts\": \"no\",\\n    \"showContactInfo\": \"yes\",\\n    \"smsOptIn\": true,\\n    \"structuredHours\": [\\n        {\\n            \"hour\": {\\n                \"day\": \"Sunday\",\\n                \"closed\": true,\\n                \"openTime\": \"09:00\",\\n                \"closeTime\": \"17:00\",\\n                \"dayOfWeek\": 0,\\n                \"byAppointmentOnly\": false\\n            }\\n        },\\n        {\\n            \"hour\": {\\n                \"day\": \"Monday\",\\n                \"closed\": false,\\n                \"openTime\": \"09:00\",\\n                \"closeTime\": \"18:00\",\\n                \"dayOfWeek\": 1,\\n                \"byAppointmentOnly\": false\\n            }\\n        },\\n        {\\n            \"hour\": {\\n                \"day\": \"Tuesday\",\\n                \"closed\": false,\\n                \"openTime\": \"09:00\",\\n                \"closeTime\": \"18:00\",\\n                \"dayOfWeek\": 2,\\n                \"byAppointmentOnly\": false\\n            }\\n        },\\n        {\\n            \"hour\": {\\n                \"day\": \"Wednesday\",\\n                \"closed\": false,\\n                \"openTime\": \"09:00\",\\n                \"closeTime\": \"18:00\",\\n                \"dayOfWeek\": 3,\\n                \"byAppointmentOnly\": false\\n            }\\n        },\\n        {\\n            \"hour\": {\\n                \"day\": \"Thursday\",\\n                \"closed\": true,\\n                \"openTime\": \"09:00\",\\n                \"closeTime\": \"17:00\",\\n                \"dayOfWeek\": 4,\\n                \"byAppointmentOnly\": false\\n            }\\n        },\\n        {\\n            \"hour\": {\\n                \"day\": \"Friday\",\\n                \"closed\": false,\\n                \"openTime\": \"09:00\",\\n                \"closeTime\": \"18:00\",\\n                \"dayOfWeek\": 5,\\n                \"byAppointmentOnly\": false\\n            }\\n        },\\n        {\\n            \"hour\": {\\n                \"day\": \"Saturday\",\\n                \"closed\": false,\\n                \"openTime\": \"08:30\",\\n                \"closeTime\": \"16:00\",\\n                \"dayOfWeek\": 6,\\n                \"byAppointmentOnly\": false\\n            }\\n        }\\n    ],\\n    \"targetAudience\": \"Babies (1r \\\\u00bd) up til 20\\\\nAfter 20 they are referred to the other location. \\\\n\",\\n    \"timeInBusiness\": \" since 2008\",\\n    \"areasOfFocus\": [\\n        \"Promote our various services and dentists with over 20 years of experience\",\\n        \"Feature we love to build relationships and treat patients like family\",\\n        \"Highlight we give referrals if we can\\\\u2019t serve our patients\"\\n    ],\\n    \"brandAttributes\": [\\n        \"Sincere\",\\n        \"Experienced\",\\n        \"Comforting\",\\n        \"Reliable\",\\n        \"Friendly\",\\n        \"Family-oriented\",\\n        \"Playful visual style\"\\n    ],\\n    \"brandKitColors\": [\\n        {\\n            \"name\": \"Orange\",\\n            \"colorCode\": \"#f39341\",\\n            \"guidelines\": \"This color and its shades will be used most often in your posts. It may be featured in backgrounds, design elements, and text.\"\\n        },\\n        {\\n            \"name\": \"Yellow\",\\n            \"colorCode\": \"#fcdd01\",\\n            \"guidelines\": \"This color will also be featured in your posts on its own or alongside some of your other colors.\"\\n        },\\n        {\\n            \"name\": \"Green\",\\n            \"colorCode\": \"#d6fadd\",\\n            \"guidelines\": \"This color is meant to support the primary and secondary colors and add some variety to your social media content. It likely won\\\\u2019t be used on its own in graphics.\"\\n        },\\n        {\\n            \"guidelines\": \"This color is meant to support the primary and secondary colors and add some variety to your social media content. It likely won\\\\u2019t be used on its own in graphics.\"\\n        },\\n        {\\n            \"guidelines\": \"This color is meant to support the primary and secondary colors and add some variety to your social media content. It likely won\\\\u2019t be used on its own in graphics.\"\\n        }\\n    ],\\n    \"brandKitFonts\": {\\n        \"primary\": {\\n            \"font\": \"caveat-brush\",\\n            \"guidelines\": \"The title font is used for headlines and short phrases on social media graphics.\"\\n        },\\n        \"alternate\": {\\n            \"font\": \"quicksand\",\\n            \"guidelines\": \"The body font will be used for social media graphics with a lot of text, like testimonials.\"\\n        }\\n    },\\n    \"brandReference\": \"Kids colors. Stand out. Bold. \",\\n    \"hashtags\": [\\n        \"#KidsDentalLand\",\\n        \"#ChildrensDentist\",\\n        \"#KidsDentistLA\",\\n        \"#DentistLA\",\\n        \"#SmileBright\"\\n    ],\\n    \"imageGuidelines\": [\\n        \"When choosing images, keep in mind that about 90% of our patients are Latino\"\\n    ],\\n    \"implementationGuidelines\": [\\n        \"Our services include digital x-rays for minimal radiation, teeth cleaning & fluoride treatments, comprehensive exam, sealants to prevent cavities, laughing gas (nitrous oxide gas), fillings, stainless steel crowns, tooth-colored white crowns, space maintainers, extractions including wisdom teeth, braces (orthodontics), and root canals (endodontics) \"\\n    ],\\n    \"logo\": {\\n        \"url\": \"\\\\/\\\\/img1.wsimg.com\\\\/isteam\\\\/ip\\\\/633eaa64-319a-499f-958f-b46af53309e2\\\\/blob.png\",\\n        \"guidelines\": \"Your primary logo will appear in posts that utilize the custom backgrounds we\\\\u2019ve designed for you.\"\\n    },\\n    \"notMarketingFocus\": \"no\",\\n    \"shortBrandDescription\": \"We\\\\u2019ve kept children\\\\u2019s smiles bright since 2008 with our comforting dental services, including X-ray cleanings and braces. Schedule an appointment!\\\\n\",\\n    \"voiceToneGuidelines\": [\\n        \"POV: we\\\\/our\\\\/us \",\\n        \"Voice: Sincere, compassionate  \",\\n        \"Hashtags: We use one hashtag once a week on all platforms \",\\n        \"Target audience: We want to target children from ages 18 months to 20 years old, but once they\\\\u2019re older than 20, we refer them to our other location\",\\n        \"Service area: We serve Los Angeles and the surrounding area, but also serve return patients who\\\\u2019ve moved away\"\\n    ],\\n    \"businessName\": \"KIDS DENTAL LAND\",\\n    \"businessType\": \"Dentist\",\\n    \"domain\": \"cfdf9328-c70f-4514-9c3e-840480c9a7dd.godaddysites.com\",\\n    \"phoneNumbers\": [\\n        {\\n            \"type\": \"business\",\\n            \"phone\": \"+1.323-262-1171\"\\n        },\\n        {\\n            \"type\": \"business\",\\n            \"phone\": \"+1.323-268-2881\"\\n        }\\n    ],\\n    \"marketingServicesPlan\": \"difyMarketingServicesNwPremium\"\\n}',\n",
       " 'Requirements': '\\n      number_of_post: 12\\n      Channel: Facebook, Instagram, Google My Business\\n      Goal: \" \"\\n    ',\n",
       " 'Social Post (9V)': '{\\n  \\'posts\\': [{\\n    \\'Post Number\\': 1,\\n    \\'Category\\': \\'Seasonal Engagement- Summer Smile Safety\\',\\n    \\'Objective\\': \\'Provide timely advice for July and August on protecting children’s teeth during summer activities, such as swimming or enjoying seasonal treats. Encourage scheduling back-to-school dental checkups to start the academic year with a healthy smile.\\',\\n    \\'Post\\': \\'Bright, healthy smiles last all summer when you protect your child’s teeth from sugary snacks and poolside mishaps. Our gentle team helps keep smiles strong with summer checkups and caring advice. Book your back-to-school visit and let your child shine all year! #KidsDentistLA #SmileBright\\',\\n    \\'Source\\': None,\\n    \\'Why this post\\': \\'Delivers practical summer dental safety tips and motivates families to schedule checkups, supporting the campaign’s focus on healthy, confident back-to-school smiles.\\',\\n    \\'Schedule Date\\': \\'July 1, 2025\\',\\n    \\'Image Recommendations\\': [{\\n      \\'description\\': \\'A child smiling at a local Los Angeles pool with a visible dental goodie bag from the clinic nearby.\\'\\n    }, {\\n      \\'description\\': \\'Kids enjoying summer fruit snacks in a park, with a Kids Dental Land flyer in the background.\\'\\n    }, {\\n      \\'description\\': \\'A dental team member in branded scrubs holding a calendar marked for back-to-school appointments.\\'\\n    }],\\n    \\'Caption\\': \\'Keep summer smiles safe.\\'\\n  }, {\\n    \\'Post Number\\': 2,\\n    \\'Category\\': \\'Educational Content- Pediatric Dental Tips\\',\\n    \\'Objective\\': \\'Share practical advice and simple tips for parents and kids to maintain healthy teeth at home, such as brushing routines, flossing, and healthy snacks. Highlight the importance of preventative care and how Kids Dental Land supports lifelong oral health.\\',\\n    \\'Post\\': \\'Confident smiles start with daily brushing, gentle flossing, and smart snack choices. Our team shares easy routines that fit busy summer days, helping your child avoid cavities and build great habits. Let’s keep your family’s smiles bright together! #KidsDentalLand #PediatricDentalLA\\',\\n    \\'Source\\': None,\\n    \\'Why this post\\': \\'Reinforces essential home care habits during summer, empowering families with actionable tips and showing the clinic’s commitment to lifelong oral health.\\',\\n    \\'Schedule Date\\': \\'July 4, 2025\\',\\n    \\'Image Recommendations\\': [{\\n      \\'description\\': \\'A parent and child brushing teeth together in a cheerful home bathroom, with a Kids Dental Land toothbrush visible.\\'\\n    }, {\\n      \\'description\\': \"A healthy snack plate with fruits and veggies labeled \\'Smile-Friendly Snacks\\' beside a Kids Dental Land info card.\"\\n    }, {\\n      \\'description\\': \\'A dental hygienist demonstrating flossing to a child in a themed exam room at the clinic.\\'\\n    }],\\n    \\'Caption\\': \\'Simple summer dental tips.\\'\\n  }, {\\n    \\'Post Number\\': 3,\\n    \\'Category\\': \\'Service Spotlights- Comprehensive Care Features\\',\\n    \\'Objective\\': \\'Showcase signature services like digital x-rays, teeth cleaning, fluoride treatments, and gentle sedation options. Emphasize the comforting, family-oriented approach and the expertise of the dental team in Los Angeles.\\',\\n    \\'Post\\': \\'Stress-free dental visits mean your child feels safe and cared for every step of the way. Our digital x-rays use minimal radiation, and gentle cleanings keep teeth healthy in a fun, welcoming space. Trust our experienced team to make every visit comfortable. #DentistLA #LAChildrensSmiles\\',\\n    \\'Source\\': None,\\n    \\'Why this post\\': \\'Highlights the clinic’s advanced, child-friendly services and compassionate care, building trust with new and returning families.\\',\\n    \\'Schedule Date\\': \\'July 8, 2025\\',\\n    \\'Image Recommendations\\': [{\\n      \\'description\\': \\'A pediatric dentist showing a digital x-ray machine to a smiling child in a colorful exam room.\\'\\n    }, {\\n      \\'description\\': \\'A close-up of a dental hygienist gently cleaning a child’s teeth, with vibrant Kids Dental Land decor in the background.\\'\\n    }, {\\n      \\'description\\': \\'A family entering the clinic’s playful lobby, greeted by a team member in branded attire.\\'\\n    }],\\n    \\'Caption\\': \\'Gentle care, advanced tools.\\'\\n  }, {\\n    \\'Post Number\\': 4,\\n    \\'Category\\': \\'Meet the Team- Dentist Experience & Approach\\',\\n    \\'Objective\\': \\'Introduce the experienced pediatric dentists and staff, focusing on their 20+ years of expertise and compassionate care. Explain how the team’s friendly approach helps children feel safe and respected.\\',\\n    \\'Post\\': \\'Children feel respected and at ease with our caring dental team, whose 20+ years of pediatric experience bring comfort to every visit. We treat your family with the same warmth we’d want for our own, making dental care a positive experience for all. #KidsDentistLA #ChildrensDentist\\',\\n    \\'Source\\': None,\\n    \\'Why this post\\': \\'Builds rapport by spotlighting the team’s expertise and compassionate approach, helping families feel confident trusting their children’s care to the clinic.\\',\\n    \\'Schedule Date\\': \\'July 11, 2025\\',\\n    \\'Image Recommendations\\': [{\\n      \\'description\\': \\'A group photo of the dental team in Kids Dental Land uniforms, smiling in a themed office setting.\\'\\n    }, {\\n      \\'description\\': \\'A dentist kneeling to speak at eye level with a child in a decorated exam room.\\'\\n    }, {\\n      \\'description\\': \\'A wall display of staff years of service and patient thank-you notes in the clinic’s hallway.\\'\\n    }],\\n    \\'Caption\\': \\'Meet our caring team.\\'\\n  }, {\\n    \\'Post Number\\': 5,\\n    \\'Category\\': \\'Educational Content- Dental Myths & Facts\\',\\n    \\'Objective\\': \\'Debunk common misconceptions about pediatric dentistry and explain the truth in a friendly, approachable way. Focus on topics relevant to children and teens, like the safety of digital x-rays or the benefits of fluoride treatments.\\',\\n    \\'Post\\': \\'Digital x-rays at our clinic use minimal radiation, keeping your child’s safety a top priority while providing clear results. Our team is dedicated to proven, gentle care so every visit is worry-free. Discover the facts and protect your child’s smile! #PediatricDentalLA #SmileBright\\',\\n    \\'Source\\': None,\\n    \\'Why this post\\': \\'Educates families by dispelling myths about dental technology, reinforcing trust in the clinic’s safe, evidence-based approach.\\',\\n    \\'Schedule Date\\': \\'July 15, 2025\\',\\n    \\'Image Recommendations\\': [{\\n      \\'description\\': \\'A dental assistant showing a digital x-ray result to a parent and child in a bright exam room.\\'\\n    }, {\\n      \\'description\\': \\'A poster in the clinic explaining digital x-ray safety in simple terms for families.\\'\\n    }, {\\n      \\'description\\': \"A staff member holding a \\'Myth vs. Fact\\' sign in the Kids Dental Land waiting area.\"\\n    }],\\n    \\'Caption\\': \\'Myths busted, facts shared.\\'\\n  }, {\\n    \\'Post Number\\': 6,\\n    \\'Category\\': \\'Access & Affordability- Insurance & Payment Options\\',\\n    \\'Objective\\': \\'Educate families about the clinic’s acceptance of Denti-Cal and PPO insurance, as well as special cash payment packages. Highlight how Kids Dental Land makes high-quality dental care accessible for all children in the community.\\',\\n    \\'Post\\': \\'Affordable dental care means every child can enjoy a healthy smile. We accept Denti-Cal, PPO insurance, and offer special cash packages, making quality care easy for your family. Let’s keep dental health within reach for all. #KidsDentalLand #DentistLA\\',\\n    \\'Source\\': None,\\n    \\'Why this post\\': \\'Breaks down financial barriers, reassuring families that care is accessible and supporting the campaign’s focus on community-wide healthy smiles.\\',\\n    \\'Schedule Date\\': \\'July 18, 2025\\',\\n    \\'Image Recommendations\\': [{\\n      \\'description\\': \\'A front desk staff member showing accepted insurance cards and a payment options sign in the clinic lobby.\\'\\n    }, {\\n      \\'description\\': \\'A family reviewing a Kids Dental Land payment plan brochure at the reception desk.\\'\\n    }, {\\n      \\'description\\': \"A smiling parent and child with a \\'Denti-Cal Accepted Here\\' sign at the clinic entrance.\"\\n    }],\\n    \\'Caption\\': \\'Care for every family.\\'\\n  }, {\\n    \\'Post Number\\': 7,\\n    \\'Category\\': \\'Service Spotlights- Braces & Orthodontics\\',\\n    \\'Objective\\': \\'Highlight the clinic’s orthodontic services, focusing on braces for kids and teens. Explain the process, benefits, and how Kids Dental Land creates a positive experience for young patients needing orthodontic care.\\',\\n    \\'Post\\': \\'A confident smile grows with the right orthodontic care. Our braces help kids and teens achieve healthy, straight teeth in a supportive, playful environment. We guide your family through every step, making orthodontics a positive journey. #KidsDentistLA #LAChildrensSmiles\\',\\n    \\'Source\\': None,\\n    \\'Why this post\\': \\'Informs families about orthodontic options and the clinic’s supportive approach, encouraging early action before the school year begins.\\',\\n    \\'Schedule Date\\': \\'July 22, 2025\\',\\n    \\'Image Recommendations\\': [{\\n      \\'description\\': \\'A teen showing off new braces with a Kids Dental Land orthodontist in a decorated treatment room.\\'\\n    }, {\\n      \\'description\\': \\'A before-and-after smile board featuring real patients’ orthodontic journeys at the clinic.\\'\\n    }, {\\n      \\'description\\': \\'A parent and child discussing orthodontic options with a staff member in a private consult space.\\'\\n    }],\\n    \\'Caption\\': \\'Braces for bright futures.\\'\\n  }, {\\n    \\'Post Number\\': 8,\\n    \\'Category\\': \\'Meet the Team- Family-Oriented Values\\',\\n    \\'Objective\\': \\'Share stories or quotes from staff about why they love working at Kids Dental Land. Emphasize their commitment to treating every family with sincerity, reliability, and a playful spirit.\\',\\n    \\'Post\\': \\'Every visit is special because we treat your family like our own. Our team loves building real connections, bringing joy and laughter to every appointment. Sincere care and a playful spirit make your child’s dental journey memorable. #KidsDentalLand #ChildrensDentist\\',\\n    \\'Source\\': None,\\n    \\'Why this post\\': \\'Strengthens emotional connection by highlighting the team’s heartfelt commitment and family-focused values, deepening trust and loyalty.\\',\\n    \\'Schedule Date\\': \\'July 25, 2025\\',\\n    \\'Image Recommendations\\': [{\\n      \\'description\\': \\'Staff members sharing a group laugh with children in a themed play area at the clinic.\\'\\n    }, {\\n      \\'description\\': \\'A team member reading a thank-you card from a patient family in the staff lounge.\\'\\n    }, {\\n      \\'description\\': \\'A staff quote board in the clinic hallway featuring handwritten notes about why they love their work.\\'\\n    }],\\n    \\'Caption\\': \\'Family care, every visit.\\'\\n  }, {\\n    \\'Post Number\\': 9,\\n    \\'Category\\': \\'Community Connection- LA Family Focus\\',\\n    \\'Objective\\': \\'Celebrate the clinic’s connection with families in Los Angeles and the surrounding area. Share stories about serving multiple generations and emphasize the welcoming, inclusive environment for local and returning patients.\\',\\n    \\'Post\\': \\'Families across Los Angeles trust us to care for their children’s smiles, year after year. Our welcoming clinic brings together generations, creating a community where every child feels at home. Join our family and grow with us! #DentistLA #LAChildrensSmiles\\',\\n    \\'Source\\': None,\\n    \\'Why this post\\': \\'Builds pride in the clinic’s deep local roots and multi-generational relationships, reinforcing the campaign’s community-centered vision.\\',\\n    \\'Schedule Date\\': \\'July 29, 2025\\',\\n    \\'Image Recommendations\\': [{\\n      \\'description\\': \\'A family photo wall in the clinic featuring patients from different generations.\\'\\n    }, {\\n      \\'description\\': \\'A group of siblings and parents smiling with a Kids Dental Land team member in the lobby.\\'\\n    }, {\\n      \\'description\\': \\'A map of Los Angeles with pins showing neighborhoods served by the clinic.\\'\\n    }],\\n    \\'Caption\\': \\'Serving LA families together.\\'\\n  }, {\\n    \\'Post Number\\': 10,\\n    \\'Category\\': \\'Community Connection- Multigenerational Smiles\\',\\n    \\'Objective\\': \\'Highlight the joy of seeing children grow up at Kids Dental Land and returning even after moving away. Reinforce the value of building lasting relationships and treating every patient like family.\\',\\n    \\'Post\\': \\'Watching your child’s smile grow from toddler to teen is our greatest reward. Many families return to us even after moving, trusting our team to care for each generation. We’re honored to be part of your family’s story. #KidsDentalLand #SmileBright\\',\\n    \\'Source\\': None,\\n    \\'Why this post\\': \\'Celebrates the clinic’s unique, long-term relationships with families, reinforcing loyalty and the value of continuity in care.\\',\\n    \\'Schedule Date\\': \\'August 1, 2025\\',\\n    \\'Image Recommendations\\': [{\\n      \\'description\\': \\'A collage of patient photos showing children at different ages with the same Kids Dental Land dentist.\\'\\n    }, {\\n      \\'description\\': \\'A staff member welcoming back a young adult patient who grew up visiting the clinic.\\'\\n    }, {\\n      \\'description\\': \\'A family sharing a memory book with dental milestone photos in the waiting area.\\'\\n    }],\\n    \\'Caption\\': \\'Smiles through the years.\\'\\n  }, {\\n    \\'Post Number\\': 11,\\n    \\'Category\\': \\'Seasonal Engagement- Back-to-School Readiness\\',\\n    \\'Objective\\': \\'Remind families to book dental appointments before the school year starts. Share tips for packing tooth-friendly lunches and maintaining good oral hygiene during the busy school season.\\',\\n    \\'Post\\': \\'A healthy smile sets your child up for success this school year. Book a dental visit before classes begin and pack lunches with crunchy fruits and veggies for strong teeth. Let’s start the year with bright, confident grins! #KidsDentistLA #SmileBright\\',\\n    \\'Source\\': None,\\n    \\'Why this post\\': \\'Aligns with back-to-school timing, motivating families to prioritize dental health as part of school readiness.\\',\\n    \\'Schedule Date\\': \\'August 5, 2025\\',\\n    \\'Image Recommendations\\': [{\\n      \\'description\\': \\'A child packing a lunchbox with apples and carrots, with a Kids Dental Land appointment reminder magnet on the fridge.\\'\\n    }, {\\n      \\'description\\': \\'A parent scheduling a dental appointment on their phone in front of a school calendar.\\'\\n    }, {\\n      \\'description\\': \\'A group of kids in school uniforms showing off their bright smiles outside the clinic.\\'\\n    }],\\n    \\'Caption\\': \\'Ready for school smiles.\\'\\n  }, {\\n    \\'Post Number\\': 12,\\n    \\'Category\\': \\'Access & Affordability- Referrals & Continuity of Care\\',\\n    \\'Objective\\': \\'Explain the process for referring patients over 20 to trusted partner locations, ensuring continuity of care. Emphasize the clinic’s dedication to supporting families at every stage of their dental journey.\\',\\n    \\'Post\\': \\'Your family’s dental care continues beyond childhood. When your child turns 20, we provide trusted referrals to partner clinics, ensuring seamless care for every stage. Our commitment to your family never ends. #DentistLA #PediatricDentalLA\\',\\n    \\'Source\\': None,\\n    \\'Why this post\\': \\'Demonstrates dedication to lifelong family support, easing transitions and reinforcing the clinic’s role as a trusted care partner.\\',\\n    \\'Schedule Date\\': \\'August 8, 2025\\',\\n    \\'Image Recommendations\\': [{\\n      \\'description\\': \\'A staff member handing a referral card to a young adult patient in the clinic office.\\'\\n    }, {\\n      \\'description\\': \\'A parent and older teen discussing next steps with a Kids Dental Land team member in a private consult room.\\'\\n    }, {\\n      \\'description\\': \\'A display of referral partner clinic brochures at the Kids Dental Land front desk.\\'\\n    }],\\n    \\'Caption\\': \\'Continuing care, always here.\\'\\n  }]\\n}'}"
      ]
     },
     "execution_count": 68,
     "metadata": {},
     "output_type": "execute_result"
    }
   ],
   "source": [
    "display_data=data[8]\n",
    "display_data\n",
    "\n"
   ]
  },
  {
   "cell_type": "code",
   "execution_count": 69,
   "id": "e03c21f4",
   "metadata": {},
   "outputs": [],
   "source": [
    "brand_guide=ast.literal_eval(display_data['BrandGuide'])\n",
    "website_summary=get_website_summary(display_data['Website summary'])\n",
    "wekcome_call_details=json.loads(display_data['Welcomecall Details'])\n",
    "Social_post=ast.literal_eval(display_data['Social Post (9V)'])\n"
   ]
  },
  {
   "cell_type": "code",
   "execution_count": null,
   "id": "6de1fb10",
   "metadata": {},
   "outputs": [],
   "source": []
  },
  {
   "cell_type": "code",
   "execution_count": null,
   "id": "d65cd9ec",
   "metadata": {},
   "outputs": [],
   "source": []
  },
  {
   "cell_type": "code",
   "execution_count": null,
   "id": "ce6ddf65",
   "metadata": {},
   "outputs": [],
   "source": []
  }
 ],
 "metadata": {
  "kernelspec": {
   "display_name": ".venv",
   "language": "python",
   "name": "python3"
  },
  "language_info": {
   "codemirror_mode": {
    "name": "ipython",
    "version": 3
   },
   "file_extension": ".py",
   "mimetype": "text/x-python",
   "name": "python",
   "nbconvert_exporter": "python",
   "pygments_lexer": "ipython3",
   "version": "3.11.11"
  }
 },
 "nbformat": 4,
 "nbformat_minor": 5
}
